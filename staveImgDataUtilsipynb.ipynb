{
  "nbformat": 4,
  "nbformat_minor": 0,
  "metadata": {
    "colab": {
      "provenance": [],
      "authorship_tag": "ABX9TyPbJJX1I5NxwDN7+Dtho/9R"
    },
    "kernelspec": {
      "name": "python3",
      "display_name": "Python 3"
    },
    "language_info": {
      "name": "python"
    }
  },
  "cells": [
    {
      "cell_type": "code",
      "execution_count": 9,
      "metadata": {
        "colab": {
          "base_uri": "https://localhost:8080/"
        },
        "id": "6cBZVahcGwe1",
        "outputId": "ea1a3682-c915-44a0-e424-2928f229a20f"
      },
      "outputs": [
        {
          "output_type": "stream",
          "name": "stdout",
          "text": [
            "Requirement already satisfied: pillow-heif in /usr/local/lib/python3.11/dist-packages (0.21.0)\n",
            "Requirement already satisfied: pillow>=10.1.0 in /usr/local/lib/python3.11/dist-packages (from pillow-heif) (11.1.0)\n",
            "Drive already mounted at /content/drive; to attempt to forcibly remount, call drive.mount(\"/content/drive\", force_remount=True).\n"
          ]
        }
      ],
      "source": [
        "!pip install pillow-heif\n",
        "import torch\n",
        "import requests\n",
        "import numpy as np\n",
        "from google.colab import drive\n",
        "import pandas as pd\n",
        "import requests\n",
        "from PIL import Image\n",
        "from io import BytesIO\n",
        "import os\n",
        "import pandas as pd\n",
        "from PIL import Image\n",
        "import pillow_heif\n",
        "from pillow_heif import register_heif_opener\n",
        "import sqlite3\n",
        "from sqlite3 import Error\n",
        "from sklearn.model_selection import train_test_split\n",
        "import matplotlib.pyplot as plt\n",
        "import cv2\n",
        "import random\n",
        "import shutil\n",
        "drive.mount('/content/drive')"
      ]
    },
    {
      "cell_type": "code",
      "source": [
        "#class supporting operations from one single img data source folder\n",
        "class ImgFolderUtils:\n",
        "  def __init__(self, imgFolderPath):\n",
        "    self.imgFolderPath = imgFolderPath\n",
        "    self.imgFiles = [imgFile for imgFile in os.listdir(imgFolderPath) if imgFile.lower().endswith('.jpg')]\n",
        "\n",
        "  def random_sample_imgs(self, destFolderPath, sample_amount=50):\n",
        "    try:\n",
        "      sampled_imgs = random.sample(self.imgFiles, sample_amount)\n",
        "      os.makedirs(destFolderPath, exist_ok=True)\n",
        "      for img in sampled_imgs:\n",
        "        shutil.copy(os.path.join(self.imgFolderPath, img), destFolderPath)\n",
        "      print(\"finished\")\n",
        "    except Exception as e:\n",
        "      print(f\"error from random_sample_imgs: {e}\")\n",
        "\n",
        "  def create_train_test_split(self, destParentFolder, stratify=False, test_size=0.2, random_state=42, ):\n",
        "    try:\n",
        "      train_df, test_df = train_test_split(self.imgFiles, test_size=test_size, random_state=random_state)\n",
        "      train_folder = os.path.join(destParentFolder, 'train')\n",
        "      test_folder = os.path.join(destParentFolder, 'test')\n",
        "      os.makedirs(train_folder, exist_ok=True)\n",
        "      os.makedirs(test_folder, exist_ok=True)\n",
        "    except Exception as e:\n",
        "      print(f\"error from create_train_test_split: {e}\")\n",
        "    pass\n"
      ],
      "metadata": {
        "id": "k9BbfnkKHAqt"
      },
      "execution_count": 10,
      "outputs": []
    },
    {
      "cell_type": "code",
      "source": [
        "imgUtilInstance = ImgFolderUtils('')"
      ],
      "metadata": {
        "id": "q6uBCZ_1IeWg"
      },
      "execution_count": 11,
      "outputs": []
    },
    {
      "cell_type": "code",
      "source": [
        "imgUtilInstance.random_sample_imgs('')"
      ],
      "metadata": {
        "id": "h7ItDp_hIst8"
      },
      "execution_count": 12,
      "outputs": []
    },
    {
      "cell_type": "code",
      "source": [],
      "metadata": {
        "id": "prOdGvA3I1v-"
      },
      "execution_count": null,
      "outputs": []
    }
  ]
}